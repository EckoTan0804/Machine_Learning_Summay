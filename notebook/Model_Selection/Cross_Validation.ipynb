{
 "cells": [
  {
   "cell_type": "markdown",
   "metadata": {},
   "source": [
    "# Cross Validation\n",
    "\n",
    "<img src=\"https://scikit-learn.org/stable/_images/grid_search_cross_validation.png\" style=\"zoom:60%; background-color:white\">\n",
    "\n",
    "|                         | How it works?                                                | Illustration                                                 |\n",
    "| ----------------------- | ------------------------------------------------------------ | ------------------------------------------------------------ |\n",
    "| **K-fold**              | 1. Create $k$-fold partition of the dataset<br />2. Estimate $k$ hold-out predictors using $1$ partition as validation and $k-1$ partition as training set | <br /><img src=\"https://miro.medium.com/max/5535/1*QDH0DSCecArPmzQtEBh0yg.png\" alt=\"img\" style=\"zoom: 20%; background-color:white\" /> |\n",
    "| **Leave-One-Out (LOO)** | **(Special case with $k=n$)** <br />Consequently estimate $n$ hold-out predictors using $1$ partition as validation and $n-1$ partition as training set | <br /><img src=\"https://miro.medium.com/max/5284/1*9bs3OMsKOJntR8blRnVE9g.png\" alt=\"img\" style=\"zoom:20%; background-color:white\" /><br /> |\n",
    "| **Random sub-sampling** | 1. Randomly sample a fraction of $\\alpha \\cdot n, \\alpha \\in (0,1)$ data points for validation<br />2. Train on remaining points and validate, repeat $K$ times |                                                              |\n",
    "\n",
    "\n",
    "\n",
    "## 🎥 Explaination\n",
    "\n",
    "[Machine Learning Fundamentals: Cross Validation]"
   ]
  },
  {
   "cell_type": "code",
   "execution_count": null,
   "metadata": {},
   "outputs": [],
   "source": []
  }
 ],
 "metadata": {
  "kernelspec": {
   "display_name": "Python 3",
   "language": "python",
   "name": "python3"
  },
  "language_info": {
   "codemirror_mode": {
    "name": "ipython",
    "version": 3
   },
   "file_extension": ".py",
   "mimetype": "text/x-python",
   "name": "python",
   "nbconvert_exporter": "python",
   "pygments_lexer": "ipython3",
   "version": "3.6.10"
  }
 },
 "nbformat": 4,
 "nbformat_minor": 4
}
