{
 "cells": [
  {
   "cell_type": "markdown",
   "metadata": {},
   "source": [
    "# Bias/Variance Tradeoff\n",
    "\n",
    "## TL;DR\n",
    "\n",
    "|                    | Resaon                                     | Example                                | affect       | Model's complexity ⬆️ | Model's complexity ⬇️ |\n",
    "| :----------------: | ------------------------------------------ | -------------------------------------- | ------------ | :------------------: | :------------------: |\n",
    "|        Bias        | wrong  assumption                          | assume a  quadratic model to be linear | underfitting |          ⬇️           |          ⬆️           |\n",
    "|      Variance      | excessive  sensitivity to small variations | high-degree  polynomial model          | overfitting  |          ⬆️           |          ⬇️           |\n",
    "| Inreducible  error | noisy  data                                |                                        |              |                      |                      |\n",
    "\n",
    "<img src=\"https://raw.githubusercontent.com/EckoTan0804/upic-repo/master/uPic/image-20200120105846503.png\" alt=\"image-20200120105846503\" style=\"zoom:50%;\" />\n",
    "\n",
    "## Explaination\n",
    "\n",
    "A model’s generalization error can be expressed as the sum of three very different errors:\n",
    "\n",
    "### Bias\n",
    "\n",
    "This part of the generalization error is due to **wrong assumptions**, such as assuming that the data is linear when it is actually quadratic. \n",
    "A high-bias model is most likely to **underfit** the training data.\n",
    "\n",
    "### Variance\n",
    "\n",
    "This part is due to the model’s **excessive sensitivity to small variations** in the training data. \\\n",
    "A model with many degrees of freedom (such as a high-degree polynomial model) is likely to have **high variance**, and thus to **overfit** the training data.\n",
    "\n",
    "### Irreducible Error\n",
    "\n",
    "This part is due to the **noisiness of the data** itself. \n",
    "The only way to reduce this part of the error is to **clean up the data** (e.g., fix the data sources, such as broken sensors, or detect and remove outliers). \n",
    "\n",
    "|               | High bias                      | Low bias               |\n",
    "| ------------- | ------------------------------ | ---------------------- |\n",
    "| High variance | something is terribly wrong! 😭 | Overfitting            |\n",
    "| Low variance  | Underfitting                   | too good to be true! 🤪 |"
   ]
  }
 ],
 "metadata": {
  "kernelspec": {
   "display_name": "Python 3",
   "language": "python",
   "name": "python3"
  },
  "language_info": {
   "codemirror_mode": {
    "name": "ipython",
    "version": 3
   },
   "file_extension": ".py",
   "mimetype": "text/x-python",
   "name": "python",
   "nbconvert_exporter": "python",
   "pygments_lexer": "ipython3",
   "version": "3.6.10"
  }
 },
 "nbformat": 4,
 "nbformat_minor": 4
}
