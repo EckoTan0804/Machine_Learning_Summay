{
 "cells": [
  {
   "cell_type": "markdown",
   "metadata": {},
   "source": [
    "# Summary: Machine Learning\n",
    "\n",
    "These are the Jupyter Notebooks of my own summary for Machine Learning. The full notebook listing is on [Github](https://github.com/EckoTan0804/Summary-machine_learning/tree/master/notebook).\n",
    "\n",
    "## Index\n",
    "\n",
    "- Fundamentals\n",
    "  - [Machine Learning Landscape](https://nbviewer.jupyter.org/github/EckoTan0804/Summary-machine_learning/blob/master/notebook/Fundamentals/ML_Landscape.ipynb)\n",
    "  - [End to End Maching Learning Project](https://nbviewer.jupyter.org/github/EckoTan0804/Summary-machine_learning/blob/master/notebook/Fundamentals/End_to_End_ML_Project.ipynb)\n",
    "  - [Discriminative Vs. Generative Model](https://nbviewer.jupyter.org/github/EckoTan0804/Summary-machine_learning/blob/master/notebook/Fundamentals/Discriminative_VS_Generative.ipynb)\n",
    "  - [Confusion Matrix](https://nbviewer.jupyter.org/github/EckoTan0804/Summary-machine_learning/blob/master/notebook/Fundamentals/Confusion_Matrix.ipynb)\n",
    "- Model Selection\n",
    "  - [Objective Function](https://nbviewer.jupyter.org/github/EckoTan0804/Summary-machine_learning/blob/master/notebook/Model_Selection/Objective_Function.ipynb)\n",
    "  - [Bias/Variance Tradeoff](https://nbviewer.jupyter.org/github/EckoTan0804/Summary-machine_learning/blob/master/notebook/Model_Selection/BiasVariance_Tradeoff.ipynb)\n",
    "  - [Cross Validation](https://nbviewer.jupyter.org/github/EckoTan0804/Summary-machine_learning/blob/master/notebook/Model_Selection/Cross_Validation.ipynb)\n",
    "\n",
    "- Regression\n",
    "  - [Linear Regression](https://nbviewer.jupyter.org/github/EckoTan0804/Summary-machine_learning/blob/master/notebook/Regression/Linear_Regression.ipynb)\n",
    "  - [Polynomial Regression](https://nbviewer.jupyter.org/github/EckoTan0804/Summary-machine_learning/blob/master/notebook/Regression/Polynomial_Regression.ipynb)\n",
    "  - [Kernelized Ridge Regression](https://nbviewer.jupyter.org/github/EckoTan0804/Summary-machine_learning/blob/master/notebook/Regression/Kernelized_Ridge_Regression.ipynb)\n",
    "\n",
    "- Classification\n",
    "  - Logistic Regression\n",
    "    - [Logistic Regression Basics](https://nbviewer.jupyter.org/github/EckoTan0804/Summary-machine_learning/blob/master/notebook/Classification/Logistic_Regression/Logistic_Regression.ipynb)\n",
    "    - [Logistic Regression (Probailistic view)](https://nbviewer.jupyter.org/github/EckoTan0804/Summary-machine_learning/blob/master/notebook/Classification/Logistic_Regression/Logistic_Regression-Probabilistic_view.ipynb)\n",
    "  - [k Nearest Neighbor](https://nbviewer.jupyter.org/github/EckoTan0804/Summary-machine_learning/blob/master/notebook/Classification/kNN/k_Nearest_Neighbor.ipynb)\n",
    "  - Support Vector Machine\n",
    "    - [SVM](https://nbviewer.jupyter.org/github/EckoTan0804/Summary-machine_learning/blob/master/notebook/Classification/SVM/SVM.ipynb)\n",
    "    - [Kernel Methods](https://nbviewer.jupyter.org/github/EckoTan0804/Summary-machine_learning/blob/master/notebook/Classification/SVM/Kernel_Methods.ipynb)\n",
    "    - [Kernelized SVM](https://nbviewer.jupyter.org/github/EckoTan0804/Summary-machine_learning/blob/master/notebook/Classification/SVM/Kernelized_SVM.ipynb)\n",
    "- Decision Trees\n",
    "  - [Classification and Regression Tree](https://nbviewer.jupyter.org/github/EckoTan0804/Summary-machine_learning/blob/master/notebook/Decision_Tress/CART.ipynb)\n",
    "- Ensemble Learning\n",
    "  - [What is Ensemble](https://nbviewer.jupyter.org/github/EckoTan0804/Summary-machine_learning/blob/master/notebook/Ensemble_Learning/Ensemble_Learning.ipynb)\n",
    "  - [Bagging and Pasting](https://nbviewer.jupyter.org/github/EckoTan0804/Summary-machine_learning/blob/master/notebook/Ensemble_Learning/Bagging_and_Pasting.ipynb)\n",
    "  - [Boosting](https://nbviewer.jupyter.org/github/EckoTan0804/Summary-machine_learning/blob/master/notebook/Ensemble_Learning/Boosting.ipynb)\n",
    "    - [AdaBoost](https://nbviewer.jupyter.org/github/EckoTan0804/Summary-machine_learning/blob/master/notebook/Ensemble_Learning/AdaBoost.ipynb)\n",
    "  - [Random Forest](https://nbviewer.jupyter.org/github/EckoTan0804/Summary-machine_learning/blob/master/notebook/Ensemble_Learning/Random_Forest.ipynb)\n",
    "  - [Voting Classifier](https://nbviewer.jupyter.org/github/EckoTan0804/Summary-machine_learning/blob/master/notebook/Ensemble_Learning/Voring_Classifier.ipynb)\n",
    "  \n",
    "- Unsupervised learning\n",
    "    - [Gaussian Mixture Model](https://nbviewer.jupyter.org/github/EckoTan0804/Summary-machine_learning/blob/master/notebook/Unsupervised_Learning/Gaussian_Mixture_Model.ipynb) \n",
    "\n",
    "\n",
    "\n"
   ]
  }
 ],
 "metadata": {
  "kernelspec": {
   "display_name": "Python 3",
   "language": "python",
   "name": "python3"
  },
  "language_info": {
   "codemirror_mode": {
    "name": "ipython",
    "version": 3
   },
   "file_extension": ".py",
   "mimetype": "text/x-python",
   "name": "python",
   "nbconvert_exporter": "python",
   "pygments_lexer": "ipython3",
   "version": "3.6.10"
  }
 },
 "nbformat": 4,
 "nbformat_minor": 4
}
