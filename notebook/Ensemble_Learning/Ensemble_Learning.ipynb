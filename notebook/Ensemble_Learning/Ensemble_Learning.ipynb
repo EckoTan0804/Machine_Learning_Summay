{
 "cells": [
  {
   "cell_type": "markdown",
   "metadata": {},
   "source": [
    "# Ensemble learning\n",
    "\n",
    "**wisdom of the crowd** : In many cases you will find that this aggregated answer is better than an expert’s answer.\n",
    "\n",
    "Similarly, if you aggregate the predictions of a group of predictors (such as classifiers or regressors), you will often get **better** predictions than with the best individual predictor. \n",
    "\n",
    "A group of predictors is called an **ensemble**; \n",
    "\n",
    "thus, this technique is called **Ensemble Learning**, \n",
    "\n",
    "and an Ensemble Learning algorithm is called an **Ensemble method**.\n",
    "\n",
    "Popular Emsemble methods:\n",
    "\n",
    "- [Bagging and Pasting](https://nbviewer.jupyter.org/github/EckoTan0804/Summary-machine_learning/blob/master/notebook/Ensemble_Learning/Bagging_and_Pasting.ipynb)\n",
    "- [Boosting](https://nbviewer.jupyter.org/github/EckoTan0804/Summary-machine_learning/blob/master/notebook/Ensemble_Learning/Boosting.ipynb)\n",
    "- stacking\n",
    "- [Voting Classifier](\n",
    "\n",
    "\n",
    "\n",
    "## Emsemble learners\n",
    "\n",
    "🎥 : [Ensemble learners](http://https://www.youtube.com/watch?v=Un9zObFjBH0&list=WL&index=344&t=0s)\n",
    "\n",
    "**Lower error**\n",
    "\n",
    "- Each learner (model) has its own bias. It we put them together, the bias tend to be reduced (they fight against each other in some sort of way)\n",
    "- Less overfitting\n",
    "- Tastes great"
   ]
  }
 ],
 "metadata": {
  "kernelspec": {
   "display_name": "Python 3",
   "language": "python",
   "name": "python3"
  },
  "language_info": {
   "codemirror_mode": {
    "name": "ipython",
    "version": 3
   },
   "file_extension": ".py",
   "mimetype": "text/x-python",
   "name": "python",
   "nbconvert_exporter": "python",
   "pygments_lexer": "ipython3",
   "version": "3.6.10"
  }
 },
 "nbformat": 4,
 "nbformat_minor": 4
}
