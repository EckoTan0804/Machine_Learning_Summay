{
 "cells": [
  {
   "cell_type": "markdown",
   "metadata": {},
   "source": [
    "# Boosting\n",
    "\n",
    "Refers to any Ensemble method that can **combine serval weak learners into a strong learner**\n",
    "\n",
    "💡 **General idea: train predictors sequentially, each trying to correct its predecessor.**\n",
    "\n",
    "Popular boosting methods:\n",
    "\n",
    "- AdaBoost\n",
    "- Gradient Boost\n"
   ]
  }
 ],
 "metadata": {
  "kernelspec": {
   "display_name": "Python 3",
   "language": "python",
   "name": "python3"
  },
  "language_info": {
   "codemirror_mode": {
    "name": "ipython",
    "version": 3
   },
   "file_extension": ".py",
   "mimetype": "text/x-python",
   "name": "python",
   "nbconvert_exporter": "python",
   "pygments_lexer": "ipython3",
   "version": "3.6.10"
  }
 },
 "nbformat": 4,
 "nbformat_minor": 4
}
