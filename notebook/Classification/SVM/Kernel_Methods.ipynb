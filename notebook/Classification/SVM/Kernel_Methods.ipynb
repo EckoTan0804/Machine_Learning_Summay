{
 "cells": [
  {
   "cell_type": "markdown",
   "metadata": {},
   "source": [
    "# Kernel Methods\n",
    "\n",
    "## Kernel function\n",
    "\n",
    "Given a mapping function $\\phi: \\mathcal{X} \\rightarrow \\mathcal{V}$, the function \n",
    "\n",
    "$$\n",
    "\\mathcal{K}: x \\rightarrow v, \\quad \\mathcal{K}\\left(\\mathbf{x}, \\mathbf{x}^{\\prime}\\right)=\\left\\langle\\phi(\\mathbf{x}), \\phi\\left(\\mathbf{x}^{\\prime}\\right)\\right\\rangle_{\\mathcal{V}}\n",
    "$$\n",
    "\n",
    "is called a **kernel function**.\n",
    "\n",
    "*\"A kernel is a function that returns the result of a dot product performed in another space.\"*\n",
    "\n",
    "\n",
    "\n",
    "## Kernel trick\n",
    "\n",
    "Applying the kernel trick simply means **replacing the dot product of two examples by a kernel function**. \n",
    "\n",
    "### Typical kernels\n",
    "\n",
    "| Kernel Type                                       | Definition                                                   |\n",
    "| ------------------------------------------------- | ------------------------------------------------------------ |\n",
    "| **Linear kernel**                                 | $k\\left(\\boldsymbol{x}, \\boldsymbol{x}^{\\prime}\\right)=\\left\\langle\\boldsymbol{x}, \\boldsymbol{x}^{\\prime}\\right\\rangle$ |\n",
    "| **Polynomial kernel**                             | $k\\left(\\boldsymbol{x}, \\boldsymbol{x}^{\\prime}\\right)=\\left\\langle\\boldsymbol{x}, \\boldsymbol{x}^{\\prime}\\right\\rangle^{d}$ |\n",
    "| **Gaussian / Radial Basis Function (RBF) kernel** | $k \\left(\\boldsymbol{x}, \\boldsymbol{y}\\right)=\\exp \\left(-\\frac{\\|\\boldsymbol{x}-\\boldsymbol{y}\\|^{2}}{2 \\sigma^{2}}\\right)$ |\n",
    "\n",
    "### Why do we need kernel trick?\n",
    "\n",
    "- Kernels can be used for all feature based algorithms that can be rewritten such that they contain **inner products** of feature vectors\n",
    "  - This is true for almost all feature based algorithms (Linear regression, SVMs, ...)\n",
    "\n",
    "- Kernels can be used to map the data $\\mathbf{x}$ in an infinite dimensional feature space (i.e., a function space)\n",
    "  - **The feature vector never has to be represented explicitly**\n",
    "  - **As long as we can evaluate the inner product of two feature vectors**\n",
    "\n",
    "➡️ We can obtain a more powerful representation than standard linear feature models.\n",
    "\n",
    "<img src=\"https://raw.githubusercontent.com/EckoTan0804/upic-repo/master/uPic/Kernel_trick.png\" alt=\"Kernel_trick\" style=\"zoom:80%;\" />\n",
    "\n"
   ]
  }
 ],
 "metadata": {
  "kernelspec": {
   "display_name": "Python 3",
   "language": "python",
   "name": "python3"
  },
  "language_info": {
   "codemirror_mode": {
    "name": "ipython",
    "version": 3
   },
   "file_extension": ".py",
   "mimetype": "text/x-python",
   "name": "python",
   "nbconvert_exporter": "python",
   "pygments_lexer": "ipython3",
   "version": "3.6.10"
  }
 },
 "nbformat": 4,
 "nbformat_minor": 4
}
